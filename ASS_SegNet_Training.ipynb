{
  "nbformat": 4,
  "nbformat_minor": 0,
  "metadata": {
    "accelerator": "GPU",
    "colab": {
      "name": "ASS.ipynb",
      "provenance": [],
      "collapsed_sections": [],
      "toc_visible": true
    },
    "kernelspec": {
      "display_name": "Python 3",
      "name": "python3"
    }
  },
  "cells": [
    {
      "cell_type": "markdown",
      "metadata": {
        "id": "iLPbWcAL4794"
      },
      "source": [
        "## \"Amazing Semantic Segmentation\""
      ]
    },
    {
      "cell_type": "code",
      "metadata": {
        "id": "uDWeSU_3QtEX"
      },
      "source": [
        "%%capture\n",
        "!pip install tensorflow-gpu\n",
        "!pip install keras_applications\n",
        "!pip install keras_preprocessing"
      ],
      "execution_count": 1,
      "outputs": []
    },
    {
      "cell_type": "code",
      "metadata": {
        "id": "4WUJYwafZRMD"
      },
      "source": [
        "import numpy as np\n",
        "from imageio import imread\n",
        "from PIL import Image\n",
        "from glob import glob\n",
        "import matplotlib.pyplot as plt\n",
        "import tensorflow"
      ],
      "execution_count": 2,
      "outputs": []
    },
    {
      "cell_type": "code",
      "metadata": {
        "id": "nJ32SZpPTDkG",
        "outputId": "fc136793-8b26-40bc-f260-9159e8de15c9",
        "colab": {
          "base_uri": "https://localhost:8080/",
          "height": 153
        }
      },
      "source": [
        "!git clone https://github.com/dancassin/Amazing-Semantic-Segmentation.git ./ASS/"
      ],
      "execution_count": 3,
      "outputs": [
        {
          "output_type": "stream",
          "text": [
            "Cloning into './ASS'...\n",
            "remote: Enumerating objects: 24, done.\u001b[K\n",
            "remote: Counting objects: 100% (24/24), done.\u001b[K\n",
            "remote: Compressing objects: 100% (19/19), done.\u001b[K\n",
            "remote: Total 1939 (delta 8), reused 10 (delta 5), pack-reused 1915\u001b[K\n",
            "Receiving objects: 100% (1939/1939), 572.47 MiB | 35.77 MiB/s, done.\n",
            "Resolving deltas: 100% (345/345), done.\n",
            "Checking out files: 100% (1472/1472), done.\n"
          ],
          "name": "stdout"
        }
      ]
    },
    {
      "cell_type": "code",
      "metadata": {
        "id": "Juq1ac8pW8Ro",
        "outputId": "9798bce7-2a4c-42c7-8331-ea1ebc471b25",
        "colab": {
          "base_uri": "https://localhost:8080/",
          "height": 391
        }
      },
      "source": [
        "# connect to google drive\n",
        "from google.colab import drive\n",
        "drive.mount('/content/gdrive', force_remount=True)\n",
        "\n",
        "!ln -s /content/gdrive/My\\ Drive/ /mydrive\n",
        "!ls /mydrive"
      ],
      "execution_count": 4,
      "outputs": [
        {
          "output_type": "stream",
          "text": [
            "Mounted at /content/gdrive\n",
            " Biggie\n",
            "'Colab Notebooks'\n",
            "'Copy of Whiteboard Warriors #21 - Group 1 .gdoc'\n",
            " DATA\n",
            "'Data Science Notes.gdoc'\n",
            "'Deep Learning with PyTorch Chapter 1+2 notes.gdoc'\n",
            "'Deep Learning with PyTorch Chapter 3 notes.gdoc'\n",
            "'GitHub Contributions Quick Guide.gdoc'\n",
            "'Hadoop Tutorial.gdoc'\n",
            "'How to Efficiently Learn Your Next Thing.gdoc'\n",
            "'Job Search'\n",
            "'Mentor Meeting Agendas.gdoc'\n",
            " Modules\n",
            "'My Drive'\n",
            " Networking\n",
            "'Presenting from a Jupyter Notebook.gdoc'\n",
            "'R Notes.gdoc'\n",
            "'Setting up a virtual environment.gdoc'\n",
            "'Thinkful Data-201 Syllabus.gdoc'\n",
            "'Untitled spreadsheet.gsheet'\n",
            " yolov3\n"
          ],
          "name": "stdout"
        }
      ]
    },
    {
      "cell_type": "code",
      "metadata": {
        "id": "2kRxOo9tW8L3"
      },
      "source": [
        "%%capture\n",
        "!cp /mydrive/Biggie/segnet_initial_train_100.zip ./\n",
        "\n",
        "!mkdir ./segnet_initial_train_100\n",
        "!unzip  ./segnet_initial_train_100.zip -d ./segnet_initial_train_100\n",
        "\n",
        "\n",
        "!cp /mydrive/Biggie/ASS/class_dict.csv ./ASS/dataset/class_dict.csv\n",
        "# !mv ./segnet_initial_train_100/*1.png ./UNet/data/imgs\n",
        "# !mv ./segnet_initial_train_100/*gt.png ./UNet/data/masks"
      ],
      "execution_count": 5,
      "outputs": []
    },
    {
      "cell_type": "code",
      "metadata": {
        "id": "cgvy9ptKUCm2",
        "outputId": "b7578f1e-b884-4e93-888f-a2a86f4d7038",
        "colab": {
          "base_uri": "https://localhost:8080/",
          "height": 34
        }
      },
      "source": [
        "cd /content"
      ],
      "execution_count": 6,
      "outputs": [
        {
          "output_type": "stream",
          "text": [
            "/content\n"
          ],
          "name": "stdout"
        }
      ]
    },
    {
      "cell_type": "code",
      "metadata": {
        "id": "FPy2ozKmXw-7"
      },
      "source": [
        "# the appropriate file set up for the model to see train/val/test\n",
        "!mkdir ./ASS/dataset\n",
        "!mkdir ./ASS/dataset/train\n",
        "!mkdir ./ASS/dataset/train/images\n",
        "!mkdir ./ASS/dataset/train/labels\n",
        "!mkdir ./ASS/dataset/valid\n",
        "!mkdir ./ASS/dataset/valid/images\n",
        "!mkdir ./ASS/dataset/valid/labels\n",
        "!mkdir ./ASS/dataset/test\n",
        "!mkdir ./ASS/dataset/test/images\n",
        "!mkdir ./ASS/dataset/test/labels\n",
        "\n",
        "!cp /mydrive/Biggie/ASS/class_dict.csv ./ASS/dataset/"
      ],
      "execution_count": 7,
      "outputs": []
    },
    {
      "cell_type": "code",
      "metadata": {
        "id": "15OOK7VoW8BJ"
      },
      "source": [
        "# converting all pictures to RBG and saving as .jpgs to remove 4th dimension from .pngs\n",
        "\n",
        "# Places 90 images in Train\n",
        "image_set = sorted(glob('/content/segnet_initial_train_100/*1.png'))\n",
        "mask_set = sorted(glob('/content/segnet_initial_train_100/*gt.png'))\n",
        "\n",
        "for i, j in zip(image_set[:-10], mask_set[:-10]):\n",
        "    image_filename = i.split('/')[-1].split('.')[0]\n",
        "    mask_filename = j.split('/')[-1].split('.')[0]\n",
        "\n",
        "    image = Image.open(i)\n",
        "    mask = Image.open(j)\n",
        "\n",
        "    image_rgb = image.convert('RGB')\n",
        "    #mask_rgb = mask.convert('RGB') converting to RGB increased dimensions to 3... duh\n",
        "\n",
        "    image_rgb.save(f'/content/ASS/dataset/train/images/{image_filename}.jpg')\n",
        "    mask.save(f'/content/ASS/dataset/train/labels/{mask_filename}.jpg')\n",
        "    \n",
        "    image_rgb.save(f'/content/ASS/dataset/valid/images/{image_filename}.jpg')\n",
        "    mask.save(f'/content/ASS/dataset/valid/labels/{mask_filename}.jpg')\n",
        "\n",
        "\n",
        "# Places 10 images in validation\n",
        "for i, j in zip(image_set[-10:], mask_set[-10:]):\n",
        "    image_filename = i.split('/')[-1].split('.')[0]\n",
        "    mask_filename = j.split('/')[-1].split('.')[0]\n",
        "\n",
        "    image = Image.open(i)\n",
        "    mask = Image.open(j)\n",
        "\n",
        "    image_rgb = image.convert('RGB')\n",
        "    #mask_rgb = mask.convert('RGB') converting to RGB increased channels to 3... duh\n",
        "\n",
        "    image_rgb.save(f'/content/ASS/dataset/test/images/{image_filename}.jpg')\n",
        "    mask.save(f'/content/ASS/dataset/test/labels/{mask_filename}.jpg')"
      ],
      "execution_count": 8,
      "outputs": []
    },
    {
      "cell_type": "code",
      "metadata": {
        "id": "btoRNtJvRLOI",
        "outputId": "bf4aa53b-b8d6-4c67-ae0e-686cd197d321",
        "colab": {
          "base_uri": "https://localhost:8080/",
          "height": 34
        }
      },
      "source": [
        "%cd ./ASS"
      ],
      "execution_count": 9,
      "outputs": [
        {
          "output_type": "stream",
          "text": [
            "/content/ASS\n"
          ],
          "name": "stdout"
        }
      ]
    },
    {
      "cell_type": "code",
      "metadata": {
        "id": "byOc3EjpVq_w",
        "outputId": "6d49af4f-81bd-4c9a-95d1-95f12d3557ad",
        "colab": {
          "base_uri": "https://localhost:8080/",
          "height": 34
        }
      },
      "source": [
        "# Checking single image shape\n",
        "from imageio import imread\n",
        "\n",
        "example_image_train = imread('/content/ASS/dataset/train/images/12061_st1280_119 1.jpg')\n",
        "example_image_train.shape"
      ],
      "execution_count": 10,
      "outputs": [
        {
          "output_type": "execute_result",
          "data": {
            "text/plain": [
              "(960, 1280, 3)"
            ]
          },
          "metadata": {
            "tags": []
          },
          "execution_count": 10
        }
      ]
    },
    {
      "cell_type": "markdown",
      "metadata": {
        "id": "a0lcVyuudfiS"
      },
      "source": [
        "## Training"
      ]
    },
    {
      "cell_type": "code",
      "metadata": {
        "id": "QpoafyRTRCUv",
        "outputId": "b827e84e-8877-4fd9-e6e1-1f539a668ff9",
        "colab": {
          "base_uri": "https://localhost:8080/",
          "height": 1000
        }
      },
      "source": [
        "!python train.py --model SegNet --base_model VGG16 --dataset ./dataset --num_classes 1 --crop_height 896 --crop_width 1280 --batch_size 1 --num_epochs 1 --initial_epoch 0"
      ],
      "execution_count": 13,
      "outputs": [
        {
          "output_type": "stream",
          "text": [
            "2020-10-17 00:28:21.139342: I tensorflow/stream_executor/platform/default/dso_loader.cc:48] Successfully opened dynamic library libcudart.so.10.1\n",
            "2020-10-17 00:28:22.824162: I tensorflow/stream_executor/platform/default/dso_loader.cc:48] Successfully opened dynamic library libcuda.so.1\n",
            "2020-10-17 00:28:22.844396: I tensorflow/stream_executor/cuda/cuda_gpu_executor.cc:982] successful NUMA node read from SysFS had negative value (-1), but there must be at least one NUMA node, so returning NUMA node zero\n",
            "2020-10-17 00:28:22.845398: I tensorflow/core/common_runtime/gpu/gpu_device.cc:1716] Found device 0 with properties: \n",
            "pciBusID: 0000:00:04.0 name: Tesla P100-PCIE-16GB computeCapability: 6.0\n",
            "coreClock: 1.3285GHz coreCount: 56 deviceMemorySize: 15.90GiB deviceMemoryBandwidth: 681.88GiB/s\n",
            "2020-10-17 00:28:22.845453: I tensorflow/stream_executor/platform/default/dso_loader.cc:48] Successfully opened dynamic library libcudart.so.10.1\n",
            "2020-10-17 00:28:22.847498: I tensorflow/stream_executor/platform/default/dso_loader.cc:48] Successfully opened dynamic library libcublas.so.10\n",
            "2020-10-17 00:28:22.849323: I tensorflow/stream_executor/platform/default/dso_loader.cc:48] Successfully opened dynamic library libcufft.so.10\n",
            "2020-10-17 00:28:22.849685: I tensorflow/stream_executor/platform/default/dso_loader.cc:48] Successfully opened dynamic library libcurand.so.10\n",
            "2020-10-17 00:28:22.851690: I tensorflow/stream_executor/platform/default/dso_loader.cc:48] Successfully opened dynamic library libcusolver.so.10\n",
            "2020-10-17 00:28:22.852660: I tensorflow/stream_executor/platform/default/dso_loader.cc:48] Successfully opened dynamic library libcusparse.so.10\n",
            "2020-10-17 00:28:22.856639: I tensorflow/stream_executor/platform/default/dso_loader.cc:48] Successfully opened dynamic library libcudnn.so.7\n",
            "2020-10-17 00:28:22.856759: I tensorflow/stream_executor/cuda/cuda_gpu_executor.cc:982] successful NUMA node read from SysFS had negative value (-1), but there must be at least one NUMA node, so returning NUMA node zero\n",
            "2020-10-17 00:28:22.857677: I tensorflow/stream_executor/cuda/cuda_gpu_executor.cc:982] successful NUMA node read from SysFS had negative value (-1), but there must be at least one NUMA node, so returning NUMA node zero\n",
            "2020-10-17 00:28:22.858529: I tensorflow/core/common_runtime/gpu/gpu_device.cc:1858] Adding visible gpu devices: 0\n",
            "2020-10-17 00:28:22.858972: I tensorflow/core/platform/cpu_feature_guard.cc:142] This TensorFlow binary is optimized with oneAPI Deep Neural Network Library (oneDNN)to use the following CPU instructions in performance-critical operations:  AVX2 FMA\n",
            "To enable them in other operations, rebuild TensorFlow with the appropriate compiler flags.\n",
            "2020-10-17 00:28:22.865936: I tensorflow/core/platform/profile_utils/cpu_utils.cc:104] CPU Frequency: 2199995000 Hz\n",
            "2020-10-17 00:28:22.866235: I tensorflow/compiler/xla/service/service.cc:168] XLA service 0x2976d80 initialized for platform Host (this does not guarantee that XLA will be used). Devices:\n",
            "2020-10-17 00:28:22.866277: I tensorflow/compiler/xla/service/service.cc:176]   StreamExecutor device (0): Host, Default Version\n",
            "2020-10-17 00:28:22.958494: I tensorflow/stream_executor/cuda/cuda_gpu_executor.cc:982] successful NUMA node read from SysFS had negative value (-1), but there must be at least one NUMA node, so returning NUMA node zero\n",
            "2020-10-17 00:28:22.959682: I tensorflow/compiler/xla/service/service.cc:168] XLA service 0x2976f40 initialized for platform CUDA (this does not guarantee that XLA will be used). Devices:\n",
            "2020-10-17 00:28:22.959741: I tensorflow/compiler/xla/service/service.cc:176]   StreamExecutor device (0): Tesla P100-PCIE-16GB, Compute Capability 6.0\n",
            "2020-10-17 00:28:22.960099: I tensorflow/stream_executor/cuda/cuda_gpu_executor.cc:982] successful NUMA node read from SysFS had negative value (-1), but there must be at least one NUMA node, so returning NUMA node zero\n",
            "2020-10-17 00:28:22.961110: I tensorflow/core/common_runtime/gpu/gpu_device.cc:1716] Found device 0 with properties: \n",
            "pciBusID: 0000:00:04.0 name: Tesla P100-PCIE-16GB computeCapability: 6.0\n",
            "coreClock: 1.3285GHz coreCount: 56 deviceMemorySize: 15.90GiB deviceMemoryBandwidth: 681.88GiB/s\n",
            "2020-10-17 00:28:22.961178: I tensorflow/stream_executor/platform/default/dso_loader.cc:48] Successfully opened dynamic library libcudart.so.10.1\n",
            "2020-10-17 00:28:22.961252: I tensorflow/stream_executor/platform/default/dso_loader.cc:48] Successfully opened dynamic library libcublas.so.10\n",
            "2020-10-17 00:28:22.961307: I tensorflow/stream_executor/platform/default/dso_loader.cc:48] Successfully opened dynamic library libcufft.so.10\n",
            "2020-10-17 00:28:22.961361: I tensorflow/stream_executor/platform/default/dso_loader.cc:48] Successfully opened dynamic library libcurand.so.10\n",
            "2020-10-17 00:28:22.961418: I tensorflow/stream_executor/platform/default/dso_loader.cc:48] Successfully opened dynamic library libcusolver.so.10\n",
            "2020-10-17 00:28:22.961468: I tensorflow/stream_executor/platform/default/dso_loader.cc:48] Successfully opened dynamic library libcusparse.so.10\n",
            "2020-10-17 00:28:22.961528: I tensorflow/stream_executor/platform/default/dso_loader.cc:48] Successfully opened dynamic library libcudnn.so.7\n",
            "2020-10-17 00:28:22.961642: I tensorflow/stream_executor/cuda/cuda_gpu_executor.cc:982] successful NUMA node read from SysFS had negative value (-1), but there must be at least one NUMA node, so returning NUMA node zero\n",
            "2020-10-17 00:28:22.962602: I tensorflow/stream_executor/cuda/cuda_gpu_executor.cc:982] successful NUMA node read from SysFS had negative value (-1), but there must be at least one NUMA node, so returning NUMA node zero\n",
            "2020-10-17 00:28:22.963438: I tensorflow/core/common_runtime/gpu/gpu_device.cc:1858] Adding visible gpu devices: 0\n",
            "2020-10-17 00:28:22.963505: I tensorflow/stream_executor/platform/default/dso_loader.cc:48] Successfully opened dynamic library libcudart.so.10.1\n",
            "2020-10-17 00:28:23.715201: I tensorflow/core/common_runtime/gpu/gpu_device.cc:1257] Device interconnect StreamExecutor with strength 1 edge matrix:\n",
            "2020-10-17 00:28:23.715297: I tensorflow/core/common_runtime/gpu/gpu_device.cc:1263]      0 \n",
            "2020-10-17 00:28:23.715340: I tensorflow/core/common_runtime/gpu/gpu_device.cc:1276] 0:   N \n",
            "2020-10-17 00:28:23.715637: I tensorflow/stream_executor/cuda/cuda_gpu_executor.cc:982] successful NUMA node read from SysFS had negative value (-1), but there must be at least one NUMA node, so returning NUMA node zero\n",
            "2020-10-17 00:28:23.716569: I tensorflow/stream_executor/cuda/cuda_gpu_executor.cc:982] successful NUMA node read from SysFS had negative value (-1), but there must be at least one NUMA node, so returning NUMA node zero\n",
            "2020-10-17 00:28:23.717484: W tensorflow/core/common_runtime/gpu/gpu_bfc_allocator.cc:39] Overriding allow_growth setting because the TF_FORCE_GPU_ALLOW_GROWTH environment variable is set. Original config value was 0.\n",
            "2020-10-17 00:28:23.717543: I tensorflow/core/common_runtime/gpu/gpu_device.cc:1402] Created TensorFlow device (/job:localhost/replica:0/task:0/device:GPU:0 with 14951 MB memory) -> physical GPU (device: 0, name: Tesla P100-PCIE-16GB, pci bus id: 0000:00:04.0, compute capability: 6.0)\n",
            "Model: \"SegNet\"\n",
            "_________________________________________________________________\n",
            "Layer (type)                 Output Shape              Param #   \n",
            "=================================================================\n",
            "input_1 (InputLayer)         [(None, 896, 1280, 3)]    0         \n",
            "_________________________________________________________________\n",
            "block1_conv2 (Conv2D)        (None, 896, 1280, 64)     1792      \n",
            "_________________________________________________________________\n",
            "block1_pool (MaxPooling2D)   (None, 448, 640, 64)      0         \n",
            "_________________________________________________________________\n",
            "block2_conv1 (Conv2D)        (None, 448, 640, 128)     73856     \n",
            "_________________________________________________________________\n",
            "block2_conv2 (Conv2D)        (None, 448, 640, 128)     147584    \n",
            "_________________________________________________________________\n",
            "block2_pool (MaxPooling2D)   (None, 224, 320, 128)     0         \n",
            "_________________________________________________________________\n",
            "block3_conv1 (Conv2D)        (None, 224, 320, 256)     295168    \n",
            "_________________________________________________________________\n",
            "block3_conv2 (Conv2D)        (None, 224, 320, 256)     590080    \n",
            "_________________________________________________________________\n",
            "block3_conv3 (Conv2D)        (None, 224, 320, 256)     590080    \n",
            "_________________________________________________________________\n",
            "block3_pool (MaxPooling2D)   (None, 112, 160, 256)     0         \n",
            "_________________________________________________________________\n",
            "block4_conv1 (Conv2D)        (None, 112, 160, 512)     1180160   \n",
            "_________________________________________________________________\n",
            "block4_conv2 (Conv2D)        (None, 112, 160, 512)     2359808   \n",
            "_________________________________________________________________\n",
            "block4_conv3 (Conv2D)        (None, 112, 160, 512)     2359808   \n",
            "_________________________________________________________________\n",
            "block4_pool (MaxPooling2D)   (None, 56, 80, 512)       0         \n",
            "_________________________________________________________________\n",
            "block5_conv1 (Conv2D)        (None, 56, 80, 512)       2359808   \n",
            "_________________________________________________________________\n",
            "block5_conv2 (Conv2D)        (None, 56, 80, 512)       2359808   \n",
            "_________________________________________________________________\n",
            "block5_conv3 (Conv2D)        (None, 56, 80, 512)       2359808   \n",
            "_________________________________________________________________\n",
            "block5_pool (MaxPooling2D)   (None, 28, 40, 512)       0         \n",
            "_________________________________________________________________\n",
            "up_sampling2d (UpSampling2D) (None, 56, 80, 512)       0         \n",
            "_________________________________________________________________\n",
            "conv2d (Conv2D)              (None, 56, 80, 512)       2359808   \n",
            "_________________________________________________________________\n",
            "batch_normalization (BatchNo (None, 56, 80, 512)       2048      \n",
            "_________________________________________________________________\n",
            "re_lu (ReLU)                 (None, 56, 80, 512)       0         \n",
            "_________________________________________________________________\n",
            "conv2d_1 (Conv2D)            (None, 56, 80, 512)       2359808   \n",
            "_________________________________________________________________\n",
            "batch_normalization_1 (Batch (None, 56, 80, 512)       2048      \n",
            "_________________________________________________________________\n",
            "re_lu_1 (ReLU)               (None, 56, 80, 512)       0         \n",
            "_________________________________________________________________\n",
            "conv2d_2 (Conv2D)            (None, 56, 80, 512)       2359808   \n",
            "_________________________________________________________________\n",
            "batch_normalization_2 (Batch (None, 56, 80, 512)       2048      \n",
            "_________________________________________________________________\n",
            "re_lu_2 (ReLU)               (None, 56, 80, 512)       0         \n",
            "_________________________________________________________________\n",
            "up_sampling2d_1 (UpSampling2 (None, 112, 160, 512)     0         \n",
            "_________________________________________________________________\n",
            "conv2d_3 (Conv2D)            (None, 112, 160, 512)     2359808   \n",
            "_________________________________________________________________\n",
            "batch_normalization_3 (Batch (None, 112, 160, 512)     2048      \n",
            "_________________________________________________________________\n",
            "re_lu_3 (ReLU)               (None, 112, 160, 512)     0         \n",
            "_________________________________________________________________\n",
            "conv2d_4 (Conv2D)            (None, 112, 160, 512)     2359808   \n",
            "_________________________________________________________________\n",
            "batch_normalization_4 (Batch (None, 112, 160, 512)     2048      \n",
            "_________________________________________________________________\n",
            "re_lu_4 (ReLU)               (None, 112, 160, 512)     0         \n",
            "_________________________________________________________________\n",
            "conv2d_5 (Conv2D)            (None, 112, 160, 256)     1179904   \n",
            "_________________________________________________________________\n",
            "batch_normalization_5 (Batch (None, 112, 160, 256)     1024      \n",
            "_________________________________________________________________\n",
            "re_lu_5 (ReLU)               (None, 112, 160, 256)     0         \n",
            "_________________________________________________________________\n",
            "up_sampling2d_2 (UpSampling2 (None, 224, 320, 256)     0         \n",
            "_________________________________________________________________\n",
            "conv2d_6 (Conv2D)            (None, 224, 320, 256)     590080    \n",
            "_________________________________________________________________\n",
            "batch_normalization_6 (Batch (None, 224, 320, 256)     1024      \n",
            "_________________________________________________________________\n",
            "re_lu_6 (ReLU)               (None, 224, 320, 256)     0         \n",
            "_________________________________________________________________\n",
            "conv2d_7 (Conv2D)            (None, 224, 320, 256)     590080    \n",
            "_________________________________________________________________\n",
            "batch_normalization_7 (Batch (None, 224, 320, 256)     1024      \n",
            "_________________________________________________________________\n",
            "re_lu_7 (ReLU)               (None, 224, 320, 256)     0         \n",
            "_________________________________________________________________\n",
            "conv2d_8 (Conv2D)            (None, 224, 320, 128)     295040    \n",
            "_________________________________________________________________\n",
            "batch_normalization_8 (Batch (None, 224, 320, 128)     512       \n",
            "_________________________________________________________________\n",
            "re_lu_8 (ReLU)               (None, 224, 320, 128)     0         \n",
            "_________________________________________________________________\n",
            "up_sampling2d_3 (UpSampling2 (None, 448, 640, 128)     0         \n",
            "_________________________________________________________________\n",
            "conv2d_9 (Conv2D)            (None, 448, 640, 128)     147584    \n",
            "_________________________________________________________________\n",
            "batch_normalization_9 (Batch (None, 448, 640, 128)     512       \n",
            "_________________________________________________________________\n",
            "re_lu_9 (ReLU)               (None, 448, 640, 128)     0         \n",
            "_________________________________________________________________\n",
            "conv2d_10 (Conv2D)           (None, 448, 640, 64)      73792     \n",
            "_________________________________________________________________\n",
            "batch_normalization_10 (Batc (None, 448, 640, 64)      256       \n",
            "_________________________________________________________________\n",
            "re_lu_10 (ReLU)              (None, 448, 640, 64)      0         \n",
            "_________________________________________________________________\n",
            "up_sampling2d_4 (UpSampling2 (None, 896, 1280, 64)     0         \n",
            "_________________________________________________________________\n",
            "conv2d_11 (Conv2D)           (None, 896, 1280, 64)     36928     \n",
            "_________________________________________________________________\n",
            "batch_normalization_11 (Batc (None, 896, 1280, 64)     256       \n",
            "_________________________________________________________________\n",
            "re_lu_11 (ReLU)              (None, 896, 1280, 64)     0         \n",
            "_________________________________________________________________\n",
            "conv2d_12 (Conv2D)           (None, 896, 1280, 1)      65        \n",
            "_________________________________________________________________\n",
            "batch_normalization_12 (Batc (None, 896, 1280, 1)      4         \n",
            "=================================================================\n",
            "Total params: 29,405,125\n",
            "Trainable params: 29,397,699\n",
            "Non-trainable params: 7,426\n",
            "_________________________________________________________________\n",
            "WARNING:tensorflow:`period` argument is deprecated. Please use `save_freq` to specify the frequency in number of batches seen.\n",
            "2020-10-17 00:28:24.370260: I tensorflow/core/profiler/lib/profiler_session.cc:164] Profiler session started.\n",
            "2020-10-17 00:28:24.370351: I tensorflow/core/profiler/internal/gpu/cupti_tracer.cc:1391] Profiler found 1 GPUs\n",
            "2020-10-17 00:28:24.371410: I tensorflow/stream_executor/platform/default/dso_loader.cc:48] Successfully opened dynamic library libcupti.so.10.1\n",
            "2020-10-17 00:28:24.521637: I tensorflow/core/profiler/internal/gpu/cupti_tracer.cc:1513] CUPTI activity buffer flushed\n",
            "\n",
            "***** Begin training *****\n",
            "Dataset --> ./dataset\n",
            "Num Images --> 90\n",
            "Model --> SegNet\n",
            "Base Model --> VGG16\n",
            "Crop Height --> 896\n",
            "Crop Width --> 1280\n",
            "Num Epochs --> 1\n",
            "Initial Epoch --> 0\n",
            "Batch Size --> 1\n",
            "Num Classes --> 1\n",
            "Data Augmentation:\n",
            "\tData Augmentation Rate --> 0.0\n",
            "\tVertical Flip --> False\n",
            "\tHorizontal Flip --> False\n",
            "\tBrightness Alteration --> None\n",
            "\tRotation --> 0.0\n",
            "\tZoom --> 0.0\n",
            "\tChannel Shift --> 0.0\n",
            "\n",
            "\n",
            "Epoch 00001: LearningRateScheduler reducing learning rate to 0.0003.\n",
            "2020-10-17 00:28:27.359659: I tensorflow/stream_executor/platform/default/dso_loader.cc:48] Successfully opened dynamic library libcudnn.so.7\n",
            "2020-10-17 00:28:29.149940: I tensorflow/stream_executor/platform/default/dso_loader.cc:48] Successfully opened dynamic library libcublas.so.10\n",
            " 1/90 [..............................] - ETA: 0s - loss: 0.0000e+00 - mean_io_u: 1.00002020-10-17 00:28:32.643151: I tensorflow/core/profiler/lib/profiler_session.cc:164] Profiler session started.\n",
            "WARNING:tensorflow:From /usr/local/lib/python3.6/dist-packages/tensorflow/python/ops/summary_ops_v2.py:1277: stop (from tensorflow.python.eager.profiler) is deprecated and will be removed after 2020-07-01.\n",
            "Instructions for updating:\n",
            "use `tf.profiler.experimental.stop` instead.\n",
            "2020-10-17 00:28:33.069023: I tensorflow/core/profiler/internal/gpu/cupti_tracer.cc:1513] CUPTI activity buffer flushed\n",
            "2020-10-17 00:28:33.075893: I tensorflow/core/profiler/internal/gpu/device_tracer.cc:223]  GpuTracer has collected 620 callback api events and 620 activity events. \n",
            "2020-10-17 00:28:33.100339: I tensorflow/core/profiler/rpc/client/save_profile.cc:176] Creating directory: /content/ASS/checkpoints/logs/train/plugins/profile/2020_10_17_00_28_33\n",
            "2020-10-17 00:28:33.112549: I tensorflow/core/profiler/rpc/client/save_profile.cc:182] Dumped gzipped tool data for trace.json.gz to /content/ASS/checkpoints/logs/train/plugins/profile/2020_10_17_00_28_33/158aa75aa179.trace.json.gz\n",
            "2020-10-17 00:28:33.143110: I tensorflow/core/profiler/rpc/client/save_profile.cc:176] Creating directory: /content/ASS/checkpoints/logs/train/plugins/profile/2020_10_17_00_28_33\n",
            "2020-10-17 00:28:33.149781: I tensorflow/core/profiler/rpc/client/save_profile.cc:182] Dumped gzipped tool data for memory_profile.json.gz to /content/ASS/checkpoints/logs/train/plugins/profile/2020_10_17_00_28_33/158aa75aa179.memory_profile.json.gz\n",
            "2020-10-17 00:28:33.151640: I tensorflow/python/profiler/internal/profiler_wrapper.cc:111] Creating directory: /content/ASS/checkpoints/logs/train/plugins/profile/2020_10_17_00_28_33Dumped tool data for xplane.pb to /content/ASS/checkpoints/logs/train/plugins/profile/2020_10_17_00_28_33/158aa75aa179.xplane.pb\n",
            "Dumped tool data for overview_page.pb to /content/ASS/checkpoints/logs/train/plugins/profile/2020_10_17_00_28_33/158aa75aa179.overview_page.pb\n",
            "Dumped tool data for input_pipeline.pb to /content/ASS/checkpoints/logs/train/plugins/profile/2020_10_17_00_28_33/158aa75aa179.input_pipeline.pb\n",
            "Dumped tool data for tensorflow_stats.pb to /content/ASS/checkpoints/logs/train/plugins/profile/2020_10_17_00_28_33/158aa75aa179.tensorflow_stats.pb\n",
            "Dumped tool data for kernel_stats.pb to /content/ASS/checkpoints/logs/train/plugins/profile/2020_10_17_00_28_33/158aa75aa179.kernel_stats.pb\n",
            "\n",
            "90/90 [==============================] - 42s 472ms/step - loss: 0.0000e+00 - mean_io_u: 1.0000 - val_loss: 0.0000e+00 - val_mean_io_u: 1.0000\n"
          ],
          "name": "stdout"
        }
      ]
    },
    {
      "cell_type": "code",
      "metadata": {
        "id": "JDUv4-uLV5ZS"
      },
      "source": [
        "# Save training weights to colab\n",
        "!mv /content/ASS/weights/* /content/mydrive/Biggie/ASS"
      ],
      "execution_count": null,
      "outputs": []
    },
    {
      "cell_type": "markdown",
      "metadata": {
        "id": "poWRjd0KdbgK"
      },
      "source": [
        "## Prediction"
      ]
    },
    {
      "cell_type": "code",
      "metadata": {
        "id": "3xWotW85da_L"
      },
      "source": [
        "# single image prediction\n",
        "!python predict.py --model SegNet --base_model VGG16 --num_classes 1 --crop_height 896 --crop_width 1024 --weights ./weights/SegNet_based_on_VGG16.h5 --image_path ./dataset/valid/images/14092_st1280_119\\ 1.jpg "
      ],
      "execution_count": null,
      "outputs": []
    },
    {
      "cell_type": "code",
      "metadata": {
        "id": "7p0Z4y3yOSXY",
        "outputId": "91baedc8-85ec-4f6d-f441-846ac43d1848",
        "colab": {
          "base_uri": "https://localhost:8080/",
          "height": 34
        }
      },
      "source": [
        "imread('/content/ASS/predictions/14092_st1280_119 1.jpg').shape\n"
      ],
      "execution_count": null,
      "outputs": [
        {
          "output_type": "execute_result",
          "data": {
            "text/plain": [
              "(896, 1024, 3)"
            ]
          },
          "metadata": {
            "tags": []
          },
          "execution_count": 26
        }
      ]
    },
    {
      "cell_type": "code",
      "metadata": {
        "id": "T4yDbgbYOlSJ",
        "outputId": "e2ea8b7c-a39f-42ad-a07f-d011254dde68",
        "colab": {
          "base_uri": "https://localhost:8080/",
          "height": 303
        }
      },
      "source": [
        "cam_image_inspect = imread('./CamVid/test/labels/0001TP_007170_L.png')\n",
        "\n",
        "plt.imshow(cam_image_inspect)\n",
        "np.unique(cam_image_inspect)"
      ],
      "execution_count": null,
      "outputs": [
        {
          "output_type": "execute_result",
          "data": {
            "text/plain": [
              "Array([ 2,  4,  5,  8, 12, 15, 16, 17, 19, 21, 22, 24, 26, 27, 30, 31],\n",
              "      dtype=uint8)"
            ]
          },
          "metadata": {
            "tags": []
          },
          "execution_count": 25
        },
        {
          "output_type": "display_data",
          "data": {
            "image/png": "[encoded data removed]",
            "text/plain": [
              "<Figure size 432x288 with 1 Axes>"
            ]
          },
          "metadata": {
            "tags": []
          }
        }
      ]
    },
    {
      "cell_type": "markdown",
      "metadata": {
        "id": "1w2xHUxtBjQ7"
      },
      "source": [
        "## Converting Caffe Weights to .h5"
      ]
    },
    {
      "cell_type": "code",
      "metadata": {
        "id": "jfGvPB8TCixH",
        "outputId": "b058d57f-2f99-478d-b470-aa80c1b85ed8",
        "colab": {
          "base_uri": "https://localhost:8080/",
          "height": 34
        }
      },
      "source": [
        "%cd /content/"
      ],
      "execution_count": null,
      "outputs": [
        {
          "output_type": "stream",
          "text": [
            "/content\n"
          ],
          "name": "stdout"
        }
      ]
    },
    {
      "cell_type": "code",
      "metadata": {
        "id": "yh5J0WuABvOW",
        "outputId": "b2367f16-4257-429c-a372-24b6d6973317",
        "colab": {
          "base_uri": "https://localhost:8080/",
          "height": 85
        }
      },
      "source": [
        "!git clone https://github.com/pierluigiferrari/caffe_weight_converter.git"
      ],
      "execution_count": null,
      "outputs": [
        {
          "output_type": "stream",
          "text": [
            "Cloning into 'caffe_weight_converter'...\n",
            "remote: Enumerating objects: 63, done.\u001b[K\n",
            "remote: Total 63 (delta 0), reused 0 (delta 0), pack-reused 63\u001b[K\n",
            "Unpacking objects: 100% (63/63), done.\n"
          ],
          "name": "stdout"
        }
      ]
    },
    {
      "cell_type": "code",
      "metadata": {
        "id": "0GT_4R6XzgZy",
        "outputId": "0181fa2f-70bf-4220-9571-bb0f13340425",
        "colab": {
          "base_uri": "https://localhost:8080/",
          "height": 272
        }
      },
      "source": [
        "!wget http://mi.eng.cam.ac.uk/~agk34/resources/SegNet/segnet_weights_driving_webdemo.caffemodel /content/"
      ],
      "execution_count": null,
      "outputs": [
        {
          "output_type": "stream",
          "text": [
            "--2020-10-16 23:46:26--  http://mi.eng.cam.ac.uk/~agk34/resources/SegNet/segnet_weights_driving_webdemo.caffemodel\n",
            "Resolving mi.eng.cam.ac.uk (mi.eng.cam.ac.uk)... 129.169.82.147\n",
            "Connecting to mi.eng.cam.ac.uk (mi.eng.cam.ac.uk)|129.169.82.147|:80... connected.\n",
            "HTTP request sent, awaiting response... 200 OK\n",
            "Length: 117809921 (112M) [text/plain]\n",
            "Saving to: ‘segnet_weights_driving_webdemo.caffemodel’\n",
            "\n",
            "segnet_weights_driv 100%[===================>] 112.35M  19.0MB/s    in 8.5s    \n",
            "\n",
            "2020-10-16 23:46:35 (13.2 MB/s) - ‘segnet_weights_driving_webdemo.caffemodel’ saved [117809921/117809921]\n",
            "\n",
            "/content/: Scheme missing.\n",
            "FINISHED --2020-10-16 23:46:35--\n",
            "Total wall clock time: 9.1s\n",
            "Downloaded: 1 files, 112M in 8.5s (13.2 MB/s)\n"
          ],
          "name": "stdout"
        }
      ]
    },
    {
      "cell_type": "code",
      "metadata": {
        "id": "fY_1lUlsCf2Z",
        "outputId": "389fb57a-4104-47e7-a599-0a0c85bf32bc",
        "colab": {
          "base_uri": "https://localhost:8080/",
          "height": 292
        }
      },
      "source": [
        "!wget https://github.com/alexgkendall/SegNet-Tutorial/blob/master/Example_Models/segnet_model_driving_webdemo.prototxt /content/"
      ],
      "execution_count": null,
      "outputs": [
        {
          "output_type": "stream",
          "text": [
            "--2020-10-16 23:46:35--  https://github.com/alexgkendall/SegNet-Tutorial/blob/master/Example_Models/segnet_model_driving_webdemo.prototxt\n",
            "Resolving github.com (github.com)... 192.30.255.112\n",
            "Connecting to github.com (github.com)|192.30.255.112|:443... connected.\n",
            "HTTP request sent, awaiting response... 200 OK\n",
            "Length: unspecified [text/html]\n",
            "Saving to: ‘segnet_model_driving_webdemo.prototxt’\n",
            "\n",
            "segnet_model_drivin     [ <=>                ] 393.58K  --.-KB/s    in 0.04s   \n",
            "\n",
            "2020-10-16 23:46:35 (10.5 MB/s) - ‘segnet_model_driving_webdemo.prototxt’ saved [403022]\n",
            "\n",
            "/content/: Scheme missing.\n",
            "FINISHED --2020-10-16 23:46:35--\n",
            "Total wall clock time: 0.5s\n",
            "Downloaded: 1 files, 394K in 0.04s (10.5 MB/s)\n"
          ],
          "name": "stdout"
        }
      ]
    },
    {
      "cell_type": "code",
      "metadata": {
        "id": "4DkBflfsDEl2"
      },
      "source": [
        "%%capture\n",
        "!sudo apt install caffe-cpu\n"
      ],
      "execution_count": null,
      "outputs": []
    },
    {
      "cell_type": "code",
      "metadata": {
        "id": "huZiQwZnV6qc",
        "outputId": "7172ff80-c3ba-4a42-bc9d-d0e5f4ce5742",
        "colab": {
          "base_uri": "https://localhost:8080/",
          "height": 105
        }
      },
      "source": [
        "!python ./caffe_weight_converter/caffe_weight_converter.py '/mydrive/Biggie/ASS/initial_weights_caffe.h5' '/content/segnet_model_driving_webdemo.prototxt' '/content/segnet_weights_driving_webdemo.caffemodel' --verbose"
      ],
      "execution_count": null,
      "outputs": [
        {
          "output_type": "stream",
          "text": [
            "[libprotobuf ERROR google/protobuf/text_format.cc:298] Error parsing text-format caffe.NetParameter: 6:1: Expected identifier, got: <\n",
            "WARNING: Logging before InitGoogleLogging() is written to STDERR\n",
            "F1016 23:47:51.404515  1355 upgrade_proto.cpp:88] Check failed: ReadProtoFromTextFile(param_file, param) Failed to parse NetParameter file: /content/segnet_model_driving_webdemo.prototxt\n",
            "*** Check failure stack trace: ***\n"
          ],
          "name": "stdout"
        }
      ]
    },
    {
      "cell_type": "markdown",
      "metadata": {
        "id": "T_h18kBc2HCP"
      },
      "source": [
        "Due to a lack of maintenance by many of these caffe converters, turning it into a .h5 may be difficult"
      ]
    },
    {
      "cell_type": "code",
      "metadata": {
        "id": "TBi1UP_F2Oxl"
      },
      "source": [
        ""
      ],
      "execution_count": null,
      "outputs": []
    }
  ]
}